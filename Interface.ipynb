{
 "cells": [
  {
   "cell_type": "code",
   "execution_count": 1,
   "metadata": {},
   "outputs": [
    {
     "output_type": "error",
     "ename": "ModuleNotFoundError",
     "evalue": "No module named &#39;matplotlib&#39;",
     "traceback": [
      "\u001b[0;31m---------------------------------------------------------------------------\u001b[0m",
      "\u001b[0;31mModuleNotFoundError\u001b[0m                       Traceback (most recent call last)",
      "\u001b[0;32m&lt;ipython-input-1-3e7ba905c825&gt;\u001b[0m in \u001b[0;36m&lt;module&gt;\u001b[0;34m\u001b[0m\n\u001b[0;32m----&gt; 1\u001b[0;31m \u001b[0;32mimport\u001b[0m \u001b[0mmatplotlib\u001b[0m\u001b[0;34m.\u001b[0m\u001b[0mpyplot\u001b[0m \u001b[0;32mas\u001b[0m \u001b[0mplt\u001b[0m\u001b[0;34m\u001b[0m\u001b[0;34m\u001b[0m\u001b[0m\n\u001b[0m\u001b[1;32m      2\u001b[0m \u001b[0;32mimport\u001b[0m \u001b[0mpandas\u001b[0m \u001b[0;32mas\u001b[0m \u001b[0mpd\u001b[0m\u001b[0;34m\u001b[0m\u001b[0;34m\u001b[0m\u001b[0m\n\u001b[1;32m      3\u001b[0m \u001b[0;32mfrom\u001b[0m \u001b[0mbacktest\u001b[0m \u001b[0;32mimport\u001b[0m \u001b[0mBacktest\u001b[0m\u001b[0;34m\u001b[0m\u001b[0;34m\u001b[0m\u001b[0m\n\u001b[1;32m      4\u001b[0m \u001b[0;32mfrom\u001b[0m \u001b[0mipywidgets\u001b[0m \u001b[0;32mimport\u001b[0m \u001b[0;34m*\u001b[0m\u001b[0;34m\u001b[0m\u001b[0;34m\u001b[0m\u001b[0m\n\u001b[1;32m      5\u001b[0m \u001b[0;32mfrom\u001b[0m \u001b[0mutils_spark\u001b[0m \u001b[0;32mimport\u001b[0m \u001b[0mread_file\u001b[0m\u001b[0;34m\u001b[0m\u001b[0;34m\u001b[0m\u001b[0m\n",
      "\u001b[0;31mModuleNotFoundError\u001b[0m: No module named &#39;matplotlib&#39;"
     ]
    }
   ],
   "source": [
    "import matplotlib.pyplot as plt\n",
    "import pandas as pd\n",
    "from backtest import Backtest\n",
    "from ipywidgets import *\n",
    "from utils_spark import read_file\n",
    "import ipywidgets as widgets\n",
    "import os\n",
    "\n",
    "\n",
    "# Get the data file list\n",
    "files = []\n",
    "for path in os.walk('data'):\n",
    "    files = path[2]\n",
    "\n",
    "# Define a function to pass the interactive parameters to backtest object\n",
    "def para(stock_id, cash, commission, fast, slow):\n",
    "    df = read_file('data/{0}'.format(stock_id))\n",
    "    # Define and initialize backtest object\n",
    "    backtest = Backtest(df, cash = cash, commission = commission, fast=fast, slow=slow)\n",
    "    ret = backtest.run()\n",
    "    # Copy the original price curve and two SMA curves\n",
    "    chart0 = pd.DataFrame(backtest.values)\n",
    "    chart1 = pd.DataFrame(backtest.sma1)\n",
    "    chart2 = pd.DataFrame(backtest.sma2)\n",
    "    # Initialize the chart plot\n",
    "    figsize = 12, 5\n",
    "    plt.subplots(figsize = figsize)\n",
    "    ax1 = plt.subplot()\n",
    "    plt.plot(chart0, color='black', label='$Price$', linewidth=0.5)\n",
    "    plt.legend(loc='upper left', frameon=False)\n",
    "    plt.plot(chart1, color='blue', label='$SMA Fast = {0}$'.format(fast), linewidth=1)\n",
    "    plt.legend(loc='upper left', frameon=False)\n",
    "    plt.plot(chart2, color='red', label='$SMA Slow = {0}$'.format(slow), linewidth=1)\n",
    "    plt.legend(loc='upper left', frameon=False)\n",
    "    # Print the output data\n",
    "    print('Stock ID: {0}'.format(stock_id[:6]))\n",
    "    print('=======================================================================================')\n",
    "    print(pd.Series(ret))\n",
    "    print('=======================================================================================')\n",
    "\n",
    "# Specify the layout of output Box\n",
    "form_item_layout = Layout(\n",
    "    justify_content='space-around',\n",
    "    margin='2%'\n",
    ")\n",
    "# Define widgets by interactive and pack into the Box\n",
    "form_items = [\n",
    "    VBox(children=interactive(\n",
    "        para, \n",
    "        {'manual': True}, \n",
    "        stock_id = files, \n",
    "        cash = (5000, 100000, 5000), \n",
    "        commission = (0, 0.01, 0.001), \n",
    "        fast=(5, 100, 5), \n",
    "        slow=(10, 200, 5)\n",
    "    ).children, layout=form_item_layout)\n",
    "]\n",
    "# Insert items into Box and specify the layout\n",
    "form = Box(form_items, layout=Layout(\n",
    "    display='flex',\n",
    "    flex_flow='column',\n",
    "    border='solid 1px',\n",
    "    align_items='stretch',\n",
    "    width='750px',\n",
    "    margin='1.3%'\n",
    "))\n",
    "\n",
    "form"
   ]
  }
 ],
 "metadata": {
  "kernelspec": {
   "name": "Python 3.7.3 64-bit",
   "display_name": "Python 3.7.3 64-bit",
   "metadata": {
    "interpreter": {
     "hash": "5edc29c2ed010d6458d71a83433b383a96a8cbd3efe8531bc90c4b8a5b8bcec9"
    }
   }
  },
  "language_info": {
   "codemirror_mode": {
    "name": "ipython",
    "version": 3
   },
   "file_extension": ".py",
   "mimetype": "text/x-python",
   "name": "python",
   "nbconvert_exporter": "python",
   "pygments_lexer": "ipython3",
   "version": "3.7.3-final"
  }
 },
 "nbformat": 4,
 "nbformat_minor": 4
}